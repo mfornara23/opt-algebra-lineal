{
 "cells": [
  {
   "cell_type": "markdown",
   "metadata": {
    "id": "dsUTG8wTSPPx"
   },
   "source": [
    "# Listas y como recorrerlas:\n",
    "\n",
    "Comenzamos estudiando los arrays y las formas de recorrerlos"
   ]
  },
  {
   "cell_type": "code",
   "execution_count": 76,
   "metadata": {
    "colab": {
     "base_uri": "https://localhost:8080/"
    },
    "id": "-l1QswlPSMPi",
    "outputId": "83afea8a-1cdf-45e0-9a82-174fcb667a5b"
   },
   "outputs": [
    {
     "name": "stdout",
     "output_type": "stream",
     "text": [
      "El tipo de objeto es:  <class 'list'>\n"
     ]
    }
   ],
   "source": [
    "# array\n",
    "arr1 = [\"algebra 1\", \"calculo 1\", \"matematica discreta\"] \n",
    "print(\"El tipo de objeto es: \",type(arr1))\n"
   ]
  },
  {
   "cell_type": "markdown",
   "metadata": {
    "id": "L8x-j-5ZS4SP"
   },
   "source": [
    "Los arrays en python son objetos tipo \"lista\", que tienen sus funciones (append,insert, etc).\n",
    "\n",
    "Para recorrerlo y trabajar con el:"
   ]
  },
  {
   "cell_type": "code",
   "execution_count": 77,
   "metadata": {
    "colab": {
     "base_uri": "https://localhost:8080/"
    },
    "id": "qJTCleJcTDcZ",
    "outputId": "1e450030-934c-4242-8d4f-5adf702904b4"
   },
   "outputs": [
    {
     "name": "stdout",
     "output_type": "stream",
     "text": [
      "algebra 1\n",
      "calculo 1\n",
      "matematica discreta\n"
     ]
    }
   ],
   "source": [
    "for i in arr1: # i es un ELEMENTO del array, a diferencia de otros lenguajes\n",
    "  print(i)\n",
    "\n"
   ]
  },
  {
   "cell_type": "code",
   "execution_count": 78,
   "metadata": {
    "colab": {
     "base_uri": "https://localhost:8080/"
    },
    "id": "TnQBzvzeTPAP",
    "outputId": "b9e30912-d202-493e-f911-c823803c9fd1"
   },
   "outputs": [
    {
     "name": "stdout",
     "output_type": "stream",
     "text": [
      "valor de i: 0, elemento: algebra 1\n",
      "valor de i: 1, elemento: calculo 1\n",
      "valor de i: 2, elemento: matematica discreta\n"
     ]
    }
   ],
   "source": [
    "# tambien se puede usar una estructura mas tradicional:\n",
    "\n",
    "for i in range(len(arr1)):\n",
    "  print(f\"valor de i: {i}, elemento: {arr1[i]}\")\n",
    "\n"
   ]
  },
  {
   "cell_type": "code",
   "execution_count": 79,
   "metadata": {
    "colab": {
     "base_uri": "https://localhost:8080/"
    },
    "id": "1dwtiotOTgU1",
    "outputId": "787cef0b-ebd0-49cd-99c9-9d8fc8d3bff7"
   },
   "outputs": [
    {
     "name": "stdout",
     "output_type": "stream",
     "text": [
      "valor de i: 0, materia: algebra 1\n",
      "valor de i: 1, materia: calculo 1\n",
      "valor de i: 2, materia: matematica discreta\n"
     ]
    }
   ],
   "source": [
    "# otra forma:\n",
    "\n",
    "for i, materia in enumerate(arr1): # una forma de combinar ambas formas de recorrer\n",
    "  print(f\"valor de i: {i}, materia: {materia}\")"
   ]
  },
  {
   "cell_type": "markdown",
   "metadata": {
    "id": "ojVfXMAmYK2m"
   },
   "source": [
    "Existen diversas formas de agregar elementos a arrays\n"
   ]
  },
  {
   "cell_type": "code",
   "execution_count": 90,
   "metadata": {
    "colab": {
     "base_uri": "https://localhost:8080/"
    },
    "id": "7KP6yaYsYKF6",
    "outputId": "d86f6f66-b614-4016-dfcf-acb584a8c346"
   },
   "outputs": [
    {
     "name": "stdout",
     "output_type": "stream",
     "text": [
      "Array original, pero con la mejor matemática agregada al final: ['algebra 1', 'calculo 1', 'matematica discreta', 'probabilidad y estadística', 'probabilidad y estadística', 'probabilidad y estadística']\n",
      "Elementos del 1 al 3:  ['calculo 1', 'matematica discreta']\n",
      "Ultimo elemento: probabilidad y estadística\n",
      "elementos del 3 en adelante: ['matematica discreta', 'probabilidad y estadística', 'probabilidad y estadística']\n"
     ]
    }
   ],
   "source": [
    "# agregamos la mejor matematica de ela catedra:\n",
    "\n",
    "arr1.append(\"probabilidad y estadística\")\n",
    "print(\"Array original, pero con la mejor matemática agregada al final:\",arr1)\n",
    "\n",
    "# si queremos obtener los elementos del 1 al 2:\n",
    "\n",
    "print(\"Elementos del 1 al 3: \",arr1[1:3]) # no incluye al 3. Numericamente es comodo\n",
    "\n",
    "# si queremos el ultimo elemento:\n",
    "print(\"Ultimo elemento:\",arr1[-1])\n",
    "\n",
    "# si queremos los elementos del 2 al ultimo:\n",
    "print(\"elementos del 3 en adelante:\",arr1[2:-1])"
   ]
  },
  {
   "cell_type": "markdown",
   "metadata": {
    "id": "kKzv_JNwUAPD"
   },
   "source": [
    "Para trabajar con arrays numéricos, recomendamos utilizar los objetos \"nump array\" que vienen con sus propias funciones mas orientadas al algebra"
   ]
  },
  {
   "cell_type": "code",
   "execution_count": 81,
   "metadata": {
    "colab": {
     "base_uri": "https://localhost:8080/"
    },
    "id": "p5cFtFpuT9M8",
    "outputId": "46cc16aa-4e6c-4406-a7da-3c6def658979"
   },
   "outputs": [
    {
     "name": "stdout",
     "output_type": "stream",
     "text": [
      "El tipo es: <class 'numpy.ndarray'>\n"
     ]
    }
   ],
   "source": [
    "import numpy as np\n",
    "arr2 = [1, 2, 3, 4, 5]\n",
    "arr2 = np.array(arr2) # lo convertimos a numpy array.\n",
    "\n",
    "# arr2 mantiene todas las propiedades de una lista normal, pero tenemos mas funciones.\n",
    "\n",
    "\n",
    "print(\"El tipo es:\",type(arr2))\n"
   ]
  },
  {
   "cell_type": "code",
   "execution_count": 82,
   "metadata": {
    "colab": {
     "base_uri": "https://localhost:8080/"
    },
    "id": "2FlEOETiUe70",
    "outputId": "1af7a0e4-d76d-4f19-e558-616d4fb5b5aa"
   },
   "outputs": [
    {
     "name": "stdout",
     "output_type": "stream",
     "text": [
      "Elementos de arr2 al cuadrado:  [ 1  4  9 16 25]\n",
      "Elementos pares de arr2:\n",
      "2\n",
      "4\n"
     ]
    }
   ],
   "source": [
    "# arr2 es compatible con operaciones matematicas\n",
    "\n",
    "print(\"Elementos de arr2 al cuadrado: \",np.power(arr2, 2))\n",
    "\n",
    "# imprimir solo los numeros pares:\n",
    "\n",
    "print(\"Elementos pares de arr2:\")\n",
    "for i in arr2:\n",
    "  if i%2 == 0:\n",
    "    print(i)\n",
    "\n",
    "\n",
    "\n"
   ]
  },
  {
   "cell_type": "code",
   "execution_count": 94,
   "metadata": {
    "colab": {
     "base_uri": "https://localhost:8080/"
    },
    "id": "0NE7JQWbVQSb",
    "outputId": "8f19e4fa-988e-4414-c0d1-5e3764f97e6d"
   },
   "outputs": [
    {
     "name": "stdout",
     "output_type": "stream",
     "text": [
      "Elementos pares de arr2\n",
      "2\n",
      "4\n",
      "Elementos impares de arr2\n",
      "1\n",
      "3\n",
      "5\n"
     ]
    }
   ],
   "source": [
    "# otra forma de hacerlo:\n",
    "# para python, 0 = FALSE y cualquier cosa distinto de 0 = TRUE, podemos hacer uso de eso\n",
    "print(\"Elementos pares de arr2\")\n",
    "for i in arr2:\n",
    "  if not i%2: \n",
    "    print(i)\n",
    "\n",
    "# si queremos los impares:\n",
    "print(\"Elementos impares de arr2\")\n",
    "for i in arr2:\n",
    "  if i%2: # si i%2 es 0, entonces la condicion es FALSE y no entra. Si i%2 es 1 (impar) entonces es TRUE y entra\n",
    "    print(i)\n"
   ]
  },
  {
   "cell_type": "markdown",
   "metadata": {
    "id": "VsJpg3d4VhWS"
   },
   "source": [
    "# Ejemplo: ejercicio 3 del parcial de 2022\n",
    "$$A = \n",
    "\\begin{pmatrix}\n",
    "\\frac{1}{\\sqrt{2}} & \\frac{-1}{\\sqrt{2}} \\\\\n",
    "\\frac{1}{\\sqrt{2}} & \\frac{1}{\\sqrt{2}} \\\\\n",
    "\\end{pmatrix}$$\n",
    "\n",
    "Problema:\n",
    "* Probar que $A^{8} = I$\n",
    "* Hallar valores y vectores propios"
   ]
  },
  {
   "cell_type": "code",
   "execution_count": 84,
   "metadata": {
    "colab": {
     "base_uri": "https://localhost:8080/"
    },
    "id": "B_EPXENhVlhk",
    "outputId": "2cfdf456-ed01-45a0-ee51-9917ae045334"
   },
   "outputs": [
    {
     "name": "stdout",
     "output_type": "stream",
     "text": [
      "La matriz es: \n",
      " [[ 0.70710678 -0.70710678]\n",
      " [ 0.70710678  0.70710678]]\n",
      "\n",
      "\n",
      "La matriz elevada a la 8 es: \n",
      " [[ 1.00000000e+00  2.39116835e-33]\n",
      " [-2.39116835e-33  1.00000000e+00]]\n"
     ]
    }
   ],
   "source": [
    "# Parte 1\n",
    "\n",
    "\n",
    "a = np.matrix([[1, -1],[1,1]]) # defino el objeto matriz\n",
    "const = np.divide(1,np.sqrt(2)) # defino el 1/sqrt(2) (puedo hacer 1/np.sqrt(2) tambien)\n",
    "a = np.dot(a, const) # multiplico la matriz por 1/sqrt(2). Uso la funcion np.dot (puedo hacer a*const tambien)\n",
    "\n",
    "\n",
    "print(f\"La matriz es: \\n {a}\")\n",
    "print(\"\\n\")\n",
    "print(f\"La matriz elevada a la 8 es: \\n {np.linalg.matrix_power(a, 8)}\") # elevo la matriz a la 8\n"
   ]
  },
  {
   "cell_type": "markdown",
   "metadata": {
    "id": "ChDRQLNHXr2v"
   },
   "source": [
    "Por errores de punto flotante, la potencia a la 8 dio con residuos, lo corregimos haciendo una funcion que redondee elemento a elemento:\n"
   ]
  },
  {
   "cell_type": "code",
   "execution_count": 85,
   "metadata": {
    "id": "oqnETsmsXx_4"
   },
   "outputs": [],
   "source": [
    "def cleanMatrix(mat, decimals = 2):\n",
    "  # Descripcion: funcion que \"limpia\" una matriz de errores de punto flotante\n",
    "\n",
    "  # Inputs: \n",
    "  # mat, objeto np.matrix \n",
    "  # decimals: (int) cantidad de decimales a redondear, por defecto en 2\n",
    "\n",
    "  # Outputs:\n",
    "  # mat redondeada, objeto np matrix\n",
    "  return np.matrix.round(mat, decimals)\n",
    "\n",
    "  "
   ]
  },
  {
   "cell_type": "code",
   "execution_count": 86,
   "metadata": {
    "colab": {
     "base_uri": "https://localhost:8080/"
    },
    "id": "hJCuvGFKX0LC",
    "outputId": "d4616f1d-30e8-473f-f49a-2bf71abd46e1"
   },
   "outputs": [
    {
     "name": "stdout",
     "output_type": "stream",
     "text": [
      "La matriz elevada a la 8 (limpia) es: \n",
      " [[ 1.  0.]\n",
      " [-0.  1.]]\n"
     ]
    }
   ],
   "source": [
    "print(f\"La matriz elevada a la 8 (limpia) es: \\n {cleanMatrix(np.linalg.matrix_power(a, 8))}\") # elevo la matriz a la 8"
   ]
  },
  {
   "cell_type": "code",
   "execution_count": 87,
   "metadata": {
    "colab": {
     "base_uri": "https://localhost:8080/"
    },
    "id": "bZvc1y72WwnM",
    "outputId": "395efc76-75b5-4dec-d285-f4c0460c657b"
   },
   "outputs": [
    {
     "name": "stdout",
     "output_type": "stream",
     "text": [
      "los valores propios son: \n",
      " (0.7071067811865475+0.7071067811865475j) \n",
      " y: \n",
      " (0.7071067811865475-0.7071067811865475j)\n",
      "los vectores propios son:  \n",
      " [[0.70710678+0.j 0.70710678-0.j]]\n",
      " \n",
      " y \n",
      " \n",
      " [[0.-0.70710678j 0.+0.70710678j]] \n",
      "\n"
     ]
    }
   ],
   "source": [
    "# Parte 2\n",
    "\n",
    "data = np.linalg.eig(a) \n",
    "# buscar en documentacion la funcion \"numpy.linalg.eig()\" para entender que estructura retorna:\n",
    "\n",
    "valores_propios = data[0] \n",
    "vectores_propios = data[1]\n",
    "\n",
    "print(f\"los valores propios son: \\n {valores_propios[0]} \\n y: \\n {valores_propios[1]}\") # recordar que j es la unidad imaginaria\n",
    "print(f\"los vectores propios son:  \\n {vectores_propios[0]}\\n \\n y \\n \\n {vectores_propios[1]} \\n\")\n",
    "\n",
    "\n"
   ]
  },
  {
   "cell_type": "markdown",
   "metadata": {
    "id": "LjlW7YocSjFU"
   },
   "source": [
    "## Ejemplo: programacion lineal (ejercicio 7.6):\n",
    " Se dispone de un campo de 480 hectáreas, en el que se puede plantar maíz o trigo, en\n",
    "superficies a definir. El maíz genera ganancias de $30/ha$, y el trigo $40/ha$. Por otra\n",
    "parte, plantar una hectárea de maíz requiere 10 horas de tractor, una de trigo $20$ horas\n",
    "de tractor, y el tractor está disponible un máximo de $8000$ horas. Hallar las superficies\n",
    "óptimas a sembrar de cada grano para maximizar la ganancia.\n",
    "\n",
    "## Solucion:\n",
    "\n",
    "Consideramos:\n",
    "\n",
    "* $x_1$ = \"cantidad de hectáreas de maiz\"\n",
    "* $x_2$ = \"cantidad de hectáreas de trigo\"\n",
    "\n",
    "El problema queda de la forma:\n",
    "\n",
    "\n",
    " $$ \\text{max } 30x_1 + 40x_2$$\n",
    "\n",
    "$$\\text{Sujeto a:} \\\\  x_1+x_2 \\leq 480 ; \\\\\n",
    "10x_1+20x_2 \\leq 8000; \\\\\n",
    "x_1 \\geq 0; \\\\\n",
    "x_2 \\geq 0;$$\n",
    "\n",
    "Usamos la libreria CVXPY para resolver problemas de optimizacion"
   ]
  },
  {
   "cell_type": "code",
   "execution_count": 96,
   "metadata": {
    "colab": {
     "base_uri": "https://localhost:8080/"
    },
    "id": "m2SASo3DSgdK",
    "outputId": "ce7bf355-121a-4da0-b198-a0d6cf577b2b"
   },
   "outputs": [
    {
     "name": "stdout",
     "output_type": "stream",
     "text": [
      "--------------------------------------------\n",
      "Solvers instalados:  ['CVXOPT', 'ECOS', 'ECOS_BB', 'GLPK', 'GLPK_MI', 'OSQP', 'SCIPY', 'SCS']\n",
      "--------------------------------------------\n"
     ]
    }
   ],
   "source": [
    "\n",
    "import cvxpy as cp\n",
    "\n",
    "print(\"Solvers instalados: \",cp.installed_solvers())\n"
   ]
  },
  {
   "cell_type": "markdown",
   "metadata": {
    "id": "DMKjdZgNahmP"
   },
   "source": [
    "Obligaremos a CVXPY a usar el solver 'GLPK' que usa SIMPLEX (ver documentacion)\n",
    "\n",
    "Formulando el problema:"
   ]
  },
  {
   "cell_type": "code",
   "execution_count": 99,
   "metadata": {
    "colab": {
     "base_uri": "https://localhost:8080/"
    },
    "id": "n7SCNXgOaeoh",
    "outputId": "1dd28765-ff8a-490c-a7df-5aedf8d4ab3a"
   },
   "outputs": [
    {
     "name": "stdout",
     "output_type": "stream",
     "text": [
      " Cantidad de hectareas de maiz:  160.0 \n",
      " Cantidad de hectareas de trigo: 320.0 \n",
      " Presupuesto: $17600.0\n"
     ]
    }
   ],
   "source": [
    "x = cp.Variable(2, nonneg = True) # Definimos vector (x, y) y ya lo seteamos en no negativo.\n",
    "\n",
    "\n",
    "#-------------FORMULACION DE FUNCION OBJETIVO-------------#\n",
    "c = np.array([30.0, 40.0]) # vector c\n",
    "objective = cp.Maximize(c.T @ x) # para cvxpy el producto matricial es con @. (c.T es la traspuesta de c).\n",
    "\n",
    "#---------------------------------------------------------#\n",
    "\n",
    "\n",
    "#-------------FORMULACION DE CONSTRAINTS------------------#\n",
    "A = np.matrix([[1,1] , [10, 20]]) # matriz de desigualdades\n",
    "b = np.array([480, 8000]) # vector b\n",
    "constraints = [A @ x <= b]\n",
    "#---------------------------------------------------------#\n",
    "\n",
    "\n",
    "#---------------MODELADO y SOLUCION-----------------------#\n",
    "\n",
    "# Creacion del OBJETO problema\n",
    "prob = cp.Problem(objective, constraints)\n",
    "\n",
    "\n",
    "\n",
    "\n",
    "# Solucion del problema\n",
    "result = prob.solve(solver = 'GLPK') # valor de la funcion objetivo, el vector solucion esta en \"x.value\". Le pasamos como parametro \"GLPK\" para que use ese solver.\n",
    "\n",
    "print(f' Cantidad de hectareas de maiz:  {x.value[0]} \\n Cantidad de hectareas de trigo: {x.value[1]} \\n Presupuesto: ${result}')\n",
    "\n"
   ]
  }
 ],
 "metadata": {
  "colab": {
   "collapsed_sections": [],
   "provenance": []
  },
  "kernelspec": {
   "display_name": "Python 3 (ipykernel)",
   "language": "python",
   "name": "python3"
  },
  "language_info": {
   "codemirror_mode": {
    "name": "ipython",
    "version": 3
   },
   "file_extension": ".py",
   "mimetype": "text/x-python",
   "name": "python",
   "nbconvert_exporter": "python",
   "pygments_lexer": "ipython3",
   "version": "3.8.3"
  }
 },
 "nbformat": 4,
 "nbformat_minor": 1
}
