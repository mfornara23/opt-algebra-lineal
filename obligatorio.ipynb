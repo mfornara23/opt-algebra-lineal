{
  "cells": [
    {
      "cell_type": "markdown",
      "metadata": {
        "id": "oyW3L8KtOVM6"
      },
      "source": [
        "### Parte a\n",
        "\n",
        "Tomando los datos provistos y la realidad planteada, se obtiene:\n",
        "\n",
        "C(p<sub>1</sub>,p<sub>2</sub>) = p<sub>1</sub> + 2p<sub>2</sub>\n",
        "\n",
        "**Restricciones**\n",
        "\n",
        "$$A_{1}=\n",
        "\\left(\\begin{array}{cc} \n",
        "1 & 0 & -1 & 0 & 0 & 0 & 0 & 1 \\\\\n",
        "0 & 1 & 1 & -1 & 0 & 0 & 0 & 0 \\\\\n",
        "0 & 0 & 0 & 1 & -1 & 0 & 0 & 0 \\\\\n",
        "0 & 0 & 0 & 0 & 1 & -1 & 0 & 0 \\\\\n",
        "0 & 0 & 0 & 0 & 0 & 1 & -1 & 0 \\\\\n",
        "0 & 0 & 0 & 0 & 0 & 0 & 1 & -1 \\\\\n",
        "\\end{array}\\right)\n",
        "$$\n",
        "\n",
        "$$X=\n",
        "\\left(\\begin{array}{cc} \n",
        "p_{1}\\\\\n",
        "p_{2}\\\\\n",
        "y_{1,2}\\\\\n",
        "y_{2,3}\\\\\n",
        "y_{3,4}\\\\\n",
        "y_{4,5}\\\\\n",
        "y_{5,6}\\\\\n",
        "y_{6,1}\\\\\n",
        "\\end{array}\\right)\n",
        "$$\n",
        "\n",
        "$$b_{1}=\n",
        "\\left(\\begin{array}{cc} \n",
        "d_{0}\\\\\n",
        "0\\\\\n",
        "d_{0}\\\\\n",
        "d_{0}/2\\\\\n",
        "d_{0}\\\\\n",
        "d_{0}/2\\\\\n",
        "\\end{array}\\right)\n",
        "$$\n",
        "\n",
        "A<sub>1</sub> * X = b<sub>1</sub>:\n",
        "\n",
        "* p<sub>1</sub> + y<sub>6,1</sub> - y<sub>1,2</sub> = d<sub>0</sub>\n",
        "* p<sub>2</sub> + y<sub>1,2</sub> - y<sub>2,3</sub> = 0\n",
        "* y<sub>2,3</sub> - y<sub>3,4</sub> = d<sub>0</sub>\n",
        "* y<sub>3,4</sub> - y<sub>4,5</sub> = d<sub>0</sub>/2\n",
        "* y<sub>4,5</sub> - y<sub>5,6</sub> = dy<sub>0</sub>\n",
        "* y<sub>5,6</sub> - y<sub>6,1</sub> = d<sub>0</sub>/2\n",
        "\n",
        "\n",
        "\n",
        "$$A_{2}=\n",
        "\\left(\\begin{array}{cc} \n",
        "0 & 0 & 1 & 0 & 0 & 0 & 0 & 0 \\\\\n",
        "0 & 0 & 0 & 1 & 0 & 0 & 0 & 0 \\\\\n",
        "0 & 0 & 0 & 0 & 1 & 0 & 0 & 0 \\\\\n",
        "0 & 0 & 0 & 0 & 0 & 1 & 0 & 0 \\\\\n",
        "0 & 0 & 0 & 0 & 0 & 0 & 1 & 0 \\\\\n",
        "0 & 0 & 0 & 0 & 0 & 0 & 0 & 1 \\\\\n",
        "\\end{array}\\right)\n",
        "$$\n",
        "\n",
        "$$b_{2}=\n",
        "\\left(\\begin{array}{cc} \n",
        "50\\\\\n",
        "100\\\\\n",
        "100\\\\\n",
        "100\\\\\n",
        "100\\\\\n",
        "100\\\\\n",
        "\\end{array}\\right)\n",
        "$$\n",
        "\n",
        "A<sub>2</sub> * X <= b<sub>2</sub>:\n",
        "\n",
        "* y<sub>1,2</sub> <= 50\n",
        "* y<sub>2,3</sub> <= 100\n",
        "* y<sub>3,4</sub> <= 100\n",
        "* y<sub>4,5</sub> <= 100\n",
        "* y<sub>5,6</sub> <= 100\n",
        "* y<sub>6,1</sub> <= 100\n",
        "\n",
        "\n",
        "$$A_{3}=\n",
        "\\left(\\begin{array}{cc} \n",
        "0 & 0 & 1 & 0 & 0 & 0 & 0 & 0 \\\\\n",
        "0 & 0 & 0 & 1 & 0 & 0 & 0 & 0 \\\\\n",
        "0 & 0 & 0 & 0 & 1 & 0 & 0 & 0 \\\\\n",
        "0 & 0 & 0 & 0 & 0 & 1 & 0 & 0 \\\\\n",
        "0 & 0 & 0 & 0 & 0 & 0 & 1 & 0 \\\\\n",
        "0 & 0 & 0 & 0 & 0 & 0 & 0 & 1 \\\\\n",
        "\\end{array}\\right)\n",
        "$$\n",
        "$$b_{3}=\n",
        "\\left(\\begin{array}{cc} \n",
        "-50\\\\\n",
        "-100\\\\\n",
        "-100\\\\\n",
        "-100\\\\\n",
        "-100\\\\\n",
        "-100\\\\\n",
        "\\end{array}\\right)\n",
        "$$\n",
        "\n",
        "A<sub>3</sub> * X >= b<sub>3</sub>:\n",
        "\n",
        "* y<sub>1,2</sub> >= -50\n",
        "* y<sub>2,3</sub> >= -100\n",
        "* y<sub>3,4</sub> >= -100\n",
        "* y<sub>4,5</sub> >= -100\n",
        "* y<sub>5,6</sub> >= -100\n",
        "* y<sub>6,1</sub> >= -100\n",
        "\n",
        "\n",
        "$$A_{4}=\n",
        "\\left(\\begin{array}{cc} \n",
        "1 & 0 & 0 & 0 & 0 & 0 & 0 & 0 \\\\\n",
        "0 & 1 & 0 & 0 & 0 & 0 & 0 & 0 \\\\\n",
        "\\end{array}\\right)\n",
        "$$\n",
        "$$b_{4}=\n",
        "\\left(\\begin{array}{cc} \n",
        "0\\\\\n",
        "0\\\\\n",
        "\\end{array}\\right)\n",
        "$$\n",
        "$$b_{5}=\n",
        "\\left(\\begin{array}{cc} \n",
        "10000\\\\\n",
        "10000\\\\\n",
        "\\end{array}\\right)\n",
        "$$\n",
        "\n",
        "\n",
        "A<sub>4</sub> * X >= b<sub>4</sub>:\n",
        "\n",
        "* 0 <= p<sub>1</sub>\n",
        "* 0 <= p<sub>2</sub> \n",
        "\n",
        "A<sub>4</sub> * X <= b<sub>5</sub>:\n",
        "\n",
        "* p<sub>1</sub> <= 10000\n",
        "* p<sub>2</sub> <= 10000"
      ]
    },
    {
      "cell_type": "markdown",
      "metadata": {
        "id": "Z_fC7SZ-OVM_"
      },
      "source": [
        "### Parte b"
      ]
    },
    {
      "cell_type": "code",
      "execution_count": 13,
      "metadata": {
        "id": "CHnXhDaEOVNA",
        "outputId": "64a43d02-f364-400e-cbe7-0644db8931cf",
        "colab": {
          "base_uri": "https://localhost:8080/"
        }
      },
      "outputs": [
        {
          "output_type": "stream",
          "name": "stdout",
          "text": [
            " Valores de variables de decision:  83.3, 49.89999999999999, 50.0, 99.89999999999999, 66.6, 49.949999999999996, 16.65, 0.0 \n",
            " Costo optimo: $183.09999999999997\n"
          ]
        }
      ],
      "source": [
        "import numpy as np\n",
        "import cvxpy as cp\n",
        "\n",
        "\n",
        "x = cp.Variable(8, nonneg = True) # Definimos vector x no negativo\n",
        "d0 = 33.3 # parametro\n",
        "\n",
        "c = np.array([1.0, 2.0, 0.0, 0.0, 0.0, 0.0, 0.0, 0.0]) # vector costo\n",
        "objective = cp.Minimize(c.T @ x)\n",
        "\n",
        "# Restricciones\n",
        "A1 = np.matrix([[1 , 0 , -1 , 0 , 0 , 0 , 0 , 1], [0 , 1 , 1 , -1 , 0 , 0 , 0 , 0], [0 , 0 , 0 , 1 , -1 , 0 , 0 , 0], [0 , 0 , 0 , 0 , 1 , -1 , 0 , 0], [0 , 0 , 0 , 0 , 0 , 1 , -1 , 0], [0 , 0 , 0 , 0 , 0 , 0 , 1 , -1]])\n",
        "A2 = np.matrix([[0 , 0 , 1 , 0 , 0 , 0 , 0 , 0], [0 , 0 , 0 , 1 , 0 , 0 , 0 , 0], [0 , 0 , 0 , 0 , 1 , 0 , 0 , 0], [0 , 0 , 0 , 0 , 0 , 1 , 0 , 0], [0 , 0 , 0 , 0 , 0 , 0 , 1 , 0], [0 , 0 , 0 , 0 , 0 , 0 , 0 , 1]])\n",
        "A3 = np.matrix([[0 , 0 , 1 , 0 , 0 , 0 , 0 , 0], [0 , 0 , 0 , 1 , 0 , 0 , 0 , 0], [0 , 0 , 0 , 0 , 1 , 0 , 0 , 0], [0 , 0 , 0 , 0 , 0 , 1 , 0 , 0], [0 , 0 , 0 , 0 , 0 , 0 , 1 , 0], [0 , 0 , 0 , 0 , 0 , 0 , 0 , 1]])\n",
        "A4 = np.matrix([[1 , 0 , 0 , 0 , 0 , 0 , 0 , 0], [0 , 1 , 0 , 0 , 0 , 0 , 0 , 0]])\n",
        "\n",
        "b1 = np.array([d0, 0, d0, d0/2, d0, d0/2])\n",
        "b2 = np.array([50, 100, 100, 100, 100, 100])\n",
        "b3 = np.array([-50, -100, -100, -100, -100, -100])\n",
        "b5 = np.array([100, 100]) # b4 se cubre con nonneg = True\n",
        "\n",
        "constraints = [A1 @ x == b1, A2 @ x <= b2,A3 @ x >= b3,A4 @ x <= b5]\n",
        "prob = cp.Problem(objective, constraints)\n",
        "\n",
        "# Solucion:\n",
        "result = prob.solve(solver = 'GLPK') # valor de la funcion objetivo, el vector solucion esta en \"x.value\". Le pasamos como parametro \"GLPK\" para que use ese solver.\n",
        "\n",
        "print(f' Valores de variables de decision:  {x.value[0]}, {x.value[1]}, {x.value[2]}, {x.value[3]}, {x.value[4]}, {x.value[5]}, {x.value[6]}, {x.value[7]} \\n Costo optimo: ${result}')\n",
        "\n",
        "\n",
        "\n"
      ]
    },
    {
      "cell_type": "markdown",
      "metadata": {
        "id": "oC2MfnXxOVNC"
      },
      "source": [
        "### Parte c"
      ]
    },
    {
      "cell_type": "code",
      "execution_count": 3,
      "metadata": {
        "id": "RAxPNvyBOVNC",
        "outputId": "9411fc15-16d8-46e7-db89-07b1f471ce20",
        "colab": {
          "base_uri": "https://localhost:8080/",
          "height": 366
        }
      },
      "outputs": [
        {
          "output_type": "stream",
          "name": "stderr",
          "text": [
            "WARNING:matplotlib.legend:No handles with labels found to put in legend.\n"
          ]
        },
        {
          "output_type": "stream",
          "name": "stdout",
          "text": [
            "$Cálculo terminado con d0= 33.3\n",
            "Costo: 183.1\n"
          ]
        },
        {
          "output_type": "execute_result",
          "data": {
            "text/plain": [
              "<matplotlib.legend.Legend at 0x7f24c49f5100>"
            ]
          },
          "metadata": {},
          "execution_count": 3
        },
        {
          "output_type": "display_data",
          "data": {
            "text/plain": [
              "<Figure size 432x288 with 1 Axes>"
            ],
            "image/png": "[encoded data removed]"
          },
          "metadata": {
            "needs_background": "light"
          }
        }
      ],
      "source": [
        "import numpy as np\n",
        "import cvxpy as cp\n",
        "import copy as copy\n",
        "\n",
        "\n",
        "x = cp.Variable(8, nonneg = True) # Definimos vector x no negativo\n",
        "d0 = 0 # parametro\n",
        "\n",
        "c = np.array([1.0, 2.0, 0.0, 0.0, 0.0, 0.0, 0.0, 0.0]) # vector costo\n",
        "objective = cp.Minimize(c.T @ x)\n",
        "\n",
        "# Restricciones\n",
        "A1 = np.matrix([[1 , 0 , -1 , 0 , 0 , 0 , 0 , 1], [0 , 1 , 1 , -1 , 0 , 0 , 0 , 0], [0 , 0 , 0 , 1 , -1 , 0 , 0 , 0], [0 , 0 , 0 , 0 , 1 , -1 , 0 , 0], [0 , 0 , 0 , 0 , 0 , 1 , -1 , 0], [0 , 0 , 0 , 0 , 0 , 0 , 1 , -1]])\n",
        "A2 = np.matrix([[0 , 0 , 1 , 0 , 0 , 0 , 0 , 0], [0 , 0 , 0 , 1 , 0 , 0 , 0 , 0], [0 , 0 , 0 , 0 , 1 , 0 , 0 , 0], [0 , 0 , 0 , 0 , 0 , 1 , 0 , 0], [0 , 0 , 0 , 0 , 0 , 0 , 1 , 0], [0 , 0 , 0 , 0 , 0 , 0 , 0 , 1]])\n",
        "A3 = np.matrix([[0 , 0 , 1 , 0 , 0 , 0 , 0 , 0], [0 , 0 , 0 , 1 , 0 , 0 , 0 , 0], [0 , 0 , 0 , 0 , 1 , 0 , 0 , 0], [0 , 0 , 0 , 0 , 0 , 1 , 0 , 0], [0 , 0 , 0 , 0 , 0 , 0 , 1 , 0], [0 , 0 , 0 , 0 , 0 , 0 , 0 , 1]])\n",
        "A4 = np.matrix([[0 , 1 , 0 , 0 , 0 , 0 , 0 , 0]])\n",
        "\n",
        "d0s = []\n",
        "result_list = []\n",
        "\n",
        "while True:\n",
        "  try:\n",
        "    d0+=0.1\n",
        "    d0s.append(d0)\n",
        "    b1 = np.array([d0, 0, d0, d0/2, d0, d0/2])\n",
        "    b2 = np.array([50, 100, 100, 100, 100, 100])\n",
        "    b3 = np.array([-50, -100, -100, -100, -100, -100])\n",
        "    b5 = np.array([100]) # b4 se cubre con nonneg = True\n",
        "\n",
        "    constraints = [A1 @ x == b1, A2 @ x <= b2,A3 @ x >= b3,A4 @ x <= b5]\n",
        "    prob = cp.Problem(objective, constraints)\n",
        "    \n",
        "\n",
        "    # Solucion:\n",
        "    result = prob.solve(solver = 'GLPK')\n",
        "    if float(\"inf\") != result:\n",
        "      result_list.append(copy.copy(result))\n",
        "    else:\n",
        "      del d0s[-1]\n",
        "      raise Exception(\"Cálculo terminado con d0=\")\n",
        "\n",
        "  except Exception as e:\n",
        "    print(f'${e} {round(d0-0.1, 4)}')\n",
        "    print(f'Costo: {round(result_list[-1], 4)}')\n",
        "    break\n",
        "\n",
        "import matplotlib.pyplot as plt\n",
        "# line 1 points\n",
        "# plotting the line 1 points \n",
        "plt.plot(d0s, result_list)\n",
        "# naming the x axis\n",
        "plt.xlabel('d0')\n",
        "# naming the y axis\n",
        "plt.ylabel('costo')\n",
        "# giving a title to my graph\n",
        "plt.title('Costo en funcion de d0')\n",
        "  \n",
        "# show a legend on the plot\n",
        "plt.legend()\n",
        "\n",
        "\n"
      ]
    },
    {
      "cell_type": "markdown",
      "source": [
        "Se observa que d0 alcanza su máximo 33.3 con costo 183.1"
      ],
      "metadata": {
        "id": "um-1l0bym5MD"
      }
    },
    {
      "cell_type": "markdown",
      "source": [
        "### Parte d"
      ],
      "metadata": {
        "id": "jHWoTd_Zb41h"
      }
    },
    {
      "cell_type": "code",
      "source": [
        "import numpy as np\n",
        "import cvxpy as cp\n",
        "import copy as copy\n",
        "\n",
        "\n",
        "x = cp.Variable(8, nonneg = True) # Definimos vector x no negativo\n",
        "d0 = 0 # parametro\n",
        "\n",
        "c = np.array([1.0, 2.0, 0.0, 0.0, 0.0, 0.0, 0.0, 0.0]) # vector costo\n",
        "objective = cp.Minimize(c.T @ x)\n",
        "\n",
        "# Restricciones\n",
        "A1 = np.matrix([[1 , 0 , -1 , 0 , 0 , 0 , 0 , 1], [0 , 1 , 1 , -1 , 0 , 0 , 0 , 0], [0 , 0 , 0 , 1 , -1 , 0 , 0 , 0], [0 , 0 , 0 , 0 , 1 , -1 , 0 , 0], [0 , 0 , 0 , 0 , 0 , 1 , -1 , 0], [0 , 0 , 0 , 0 , 0 , 0 , 1 , -1]])\n",
        "A2 = np.matrix([[0 , 0 , 1 , 0 , 0 , 0 , 0 , 0], [0 , 0 , 0 , 1 , 0 , 0 , 0 , 0], [0 , 0 , 0 , 0 , 1 , 0 , 0 , 0], [0 , 0 , 0 , 0 , 0 , 1 , 0 , 0], [0 , 0 , 0 , 0 , 0 , 0 , 1 , 0], [0 , 0 , 0 , 0 , 0 , 0 , 0 , 1]])\n",
        "A3 = np.matrix([[0 , 0 , 1 , 0 , 0 , 0 , 0 , 0], [0 , 0 , 0 , 1 , 0 , 0 , 0 , 0], [0 , 0 , 0 , 0 , 1 , 0 , 0 , 0], [0 , 0 , 0 , 0 , 0 , 1 , 0 , 0], [0 , 0 , 0 , 0 , 0 , 0 , 1 , 0], [0 , 0 , 0 , 0 , 0 , 0 , 0 , 1]])\n",
        "A4 = np.matrix([[1 , 0 , 0 , 0 , 0 , 0 , 0 , 0], [0 , 1 , 0 , 0 , 0 , 0 , 0 , 0]])\n",
        "\n",
        "d0s = []\n",
        "result_list = []\n",
        "\n",
        "while True:\n",
        "  try:\n",
        "    d0+=0.1\n",
        "    d0s.append(d0)\n",
        "    b1 = np.array([d0, 0, d0, d0/2, d0, d0/2])\n",
        "    b2 = np.array([50, 100, 100, 100, 100, 100])\n",
        "    b3 = np.array([-50, -100, -100, -100, -100, -100])\n",
        "    b5 = np.array([100, 100]) # b4 se cubre con nonneg = True\n",
        "\n",
        "    constraints = [A1 @ x == b1, A2 @ x <= b2,A3 @ x >= b3,A4 @ x <= b5]\n",
        "    prob = cp.Problem(objective, constraints)\n",
        "    \n",
        "\n",
        "    # Solucion:\n",
        "    result = prob.solve(solver = 'GLPK')\n",
        "    if float(\"inf\") != result:\n",
        "      result_list.append(copy.copy(result))\n",
        "    else:\n",
        "      del d0s[-1]\n",
        "      raise Exception(\"Cálculo terminado con d0=\")\n",
        "\n",
        "  except Exception as e:\n",
        "    print(f'${e} {round(d0-0.1, 4)}')\n",
        "    print(f'Costo: {round(result_list[-1], 4)}')\n",
        "    break\n",
        "\n",
        "import matplotlib.pyplot as plt\n",
        "# line 1 points\n",
        "# plotting the line 1 points \n",
        "plt.plot(d0s, result_list)\n",
        "# naming the x axis\n",
        "plt.xlabel('d0')\n",
        "# naming the y axis\n",
        "plt.ylabel('costo')\n",
        "# giving a title to my graph\n",
        "plt.title('Costo en funcion de d0')\n",
        "  \n",
        "# show a legend on the plot\n",
        "plt.legend()\n",
        "\n"
      ],
      "metadata": {
        "colab": {
          "base_uri": "https://localhost:8080/",
          "height": 366
        },
        "id": "ekCq0_gkb8L1",
        "outputId": "db1d21fb-87a7-403a-b26b-a3cf5cd648eb"
      },
      "execution_count": 4,
      "outputs": [
        {
          "output_type": "stream",
          "name": "stderr",
          "text": [
            "WARNING:matplotlib.legend:No handles with labels found to put in legend.\n"
          ]
        },
        {
          "output_type": "stream",
          "name": "stdout",
          "text": [
            "$Cálculo terminado con d0= 33.3\n",
            "Costo: 183.1\n"
          ]
        },
        {
          "output_type": "execute_result",
          "data": {
            "text/plain": [
              "<matplotlib.legend.Legend at 0x7f24c4975f70>"
            ]
          },
          "metadata": {},
          "execution_count": 4
        },
        {
          "output_type": "display_data",
          "data": {
            "text/plain": [
              "<Figure size 432x288 with 1 Axes>"
            ],
            "image/png": "[encoded data removed]"
          },
          "metadata": {
            "needs_background": "light"
          }
        }
      ]
    },
    {
      "cell_type": "markdown",
      "source": [
        "Acotar la producción en p1 en 100 no varía el resultado del experimento."
      ],
      "metadata": {
        "id": "6L0JxAxNpuvq"
      }
    },
    {
      "cell_type": "markdown",
      "source": [
        "## Parte e\n",
        "\n",
        "Se agrega el enlace **y<sub>1,3</sub>**\n"
      ],
      "metadata": {
        "id": "GHh_H26QqJz9"
      }
    },
    {
      "cell_type": "code",
      "source": [
        "import numpy as np\n",
        "import cvxpy as cp\n",
        "import copy as copy\n",
        "\n",
        "\n",
        "x = cp.Variable(9, nonneg = True) # Definimos vector x no negativo\n",
        "d0 = 0 # parametro\n",
        "\n",
        "c = np.array([1.0, 2.0, 0.0, 0.0, 0.0, 0.0, 0.0, 0.0, 0.0]) # vector costo\n",
        "objective = cp.Minimize(c.T @ x)\n",
        "\n",
        "# Restricciones\n",
        "A1 = np.matrix([[1 , 0 , -1 , -1 , 0 , 0 , 0 , 0 , 1], [0 , 1 , 1 , 0 , -1 , 0 , 0 , 0 , 0], [0 , 0 , 0 , 1 , 1 , -1 , 0 , 0 , 0], [0 , 0 , 0 , 0 , 0 , 1 , -1 , 0 , 0], [0, 0 , 0 , 0 , 0 , 0 , 1 , -1 , 0], [0 , 0 , 0 , 0 , 0 , 0 , 0 , 1 , -1]])\n",
        "A2 = np.matrix([[0 , 0 , 1 , 0 , 0 , 0 , 0 , 0, 0], [0 , 0 , 0 , 1 , 0 , 0 , 0 , 0, 0], [0 , 0 , 0 , 0 , 1 , 0 , 0 , 0, 0], [0 , 0 , 0 , 0 , 0 , 1 , 0 , 0, 0], [0 , 0 , 0 , 0 , 0 , 0 , 1 , 0, 0], [0 , 0 , 0 , 0 , 0 , 0 , 0 , 1, 0], [0 , 0 , 0 , 0 , 0 , 0 , 0 , 0, 1]])\n",
        "A3 = np.matrix([[0 , 0 , 1 , 0 , 0 , 0 , 0 , 0, 0], [0 , 0 , 0 , 1 , 0 , 0 , 0 , 0, 0], [0 , 0 , 0 , 0 , 1 , 0 , 0 , 0, 0], [0 , 0 , 0 , 0 , 0 , 1 , 0 , 0, 0], [0 , 0 , 0 , 0 , 0 , 0 , 1 , 0, 0], [0 , 0 , 0 , 0 , 0 , 0 , 0 , 1, 0], [0 , 0 , 0 , 0 , 0 , 0 , 0 , 0, 1]])\n",
        "A4 = np.matrix([[1 , 0 , 0 , 0 , 0 , 0 , 0 , 0, 0], [0 , 1 , 0 , 0 , 0 , 0 , 0 , 0, 0]])\n",
        "\n",
        "d0s = []\n",
        "result_list = []\n",
        "\n",
        "while True:\n",
        "  try:\n",
        "    d0+=0.1\n",
        "    d0s.append(d0)\n",
        "    b1 = np.array([d0, 0, d0, d0/2, d0, d0/2])\n",
        "    b2 = np.array([50, 100, 100, 100, 100, 100, 100])\n",
        "    b3 = np.array([-50, -100, -100, -100, -100, -100, -100])\n",
        "    b5 = np.array([1000, 1000]) # b4 se cubre con nonneg = True\n",
        "\n",
        "    constraints = [A1 @ x == b1, A2 @ x <= b2,A3 @ x >= b3,A4 @ x <= b5]\n",
        "    prob = cp.Problem(objective, constraints)\n",
        "    \n",
        "\n",
        "    # Solucion:\n",
        "    result = prob.solve(solver = 'GLPK')\n",
        "    if float(\"inf\") != result:\n",
        "      result_list.append(copy.copy(result))\n",
        "    else:\n",
        "      del d0s[-1]\n",
        "      raise Exception(\"Cálculo terminado con d0=\")\n",
        "  except Exception as e:\n",
        "    print(f'${e} {round(d0-0.1, 4)}')\n",
        "    print(f'Costo: {round(result_list[-1], 4)}')\n",
        "    break\n",
        "\n",
        "import matplotlib.pyplot as plt\n",
        "# line 1 points\n",
        "# plotting the line 1 points \n",
        "plt.plot(d0s, result_list)\n",
        "# naming the x axis\n",
        "plt.xlabel('d0')\n",
        "# naming the y axis\n",
        "plt.ylabel('costo')\n",
        "# giving a title to my graph\n",
        "plt.title('Costo en funcion de d0')\n",
        "  \n",
        "# show a legend on the plot\n",
        "plt.legend()\n",
        "\n"
      ],
      "metadata": {
        "id": "ZG4tn21hqNDF",
        "outputId": "ea37f928-efa7-42db-babf-40615783c722",
        "colab": {
          "base_uri": "https://localhost:8080/",
          "height": 366
        }
      },
      "execution_count": 33,
      "outputs": [
        {
          "output_type": "stream",
          "name": "stderr",
          "text": [
            "WARNING:matplotlib.legend:No handles with labels found to put in legend.\n"
          ]
        },
        {
          "output_type": "stream",
          "name": "stdout",
          "text": [
            "$Cálculo terminado con d0= 50.0\n",
            "Costo: 200.0\n"
          ]
        },
        {
          "output_type": "execute_result",
          "data": {
            "text/plain": [
              "<matplotlib.legend.Legend at 0x7f6b52be1bb0>"
            ]
          },
          "metadata": {},
          "execution_count": 33
        },
        {
          "output_type": "display_data",
          "data": {
            "text/plain": [
              "<Figure size 432x288 with 1 Axes>"
            ],
            "image/png": "[encoded data removed]"
          },
          "metadata": {
            "needs_background": "light"
          }
        }
      ]
    },
    {
      "cell_type": "markdown",
      "source": [
        "Ponderamos el enlace y<sub>1,3</sub> con valor 100 ya que es ahí donde se minimíza el costo y se cumple la demanda maxima (50)"
      ],
      "metadata": {
        "id": "iPgCWvTfvBkN"
      }
    },
    {
      "cell_type": "markdown",
      "source": [
        "Se agrega el enlace y<sub>1,4</sub>"
      ],
      "metadata": {
        "id": "af2UwfdSl2ny"
      }
    },
    {
      "cell_type": "code",
      "source": [
        "import numpy as np\n",
        "import cvxpy as cp\n",
        "import copy as copy\n",
        "\n",
        "\n",
        "x = cp.Variable(9, nonneg = True) # Definimos vector x no negativo\n",
        "d0 = 0 # parametro\n",
        "\n",
        "c = np.array([1.0, 2.0, 0.0, 0.0, 0.0, 0.0, 0.0, 0.0, 0.0]) # vector costo\n",
        "objective = cp.Minimize(c.T @ x)\n",
        "\n",
        "# Restricciones\n",
        "A1 = np.matrix([[1 , 0 , -1 , -1 , 0 , 0 , 0 , 0 , 1], [0 , 1 , 1 , 0 , -1 , 0 , 0 , 0 , 0], [0 , 0 , 0 , 0 , 1 , -1 , 0 , 0 , 0], [0 , 0 , 0 , 1 , 0 , 1 , -1 , 0 , 0], [0, 0 , 0 , 0 , 0 , 0 , 1 , -1 , 0], [0 , 0 , 0 , 0 , 0 , 0 , 0 , 1 , -1]])\n",
        "A2 = np.matrix([[0 , 0 , 1 , 0 , 0 , 0 , 0 , 0, 0], [0 , 0 , 0 , 1 , 0 , 0 , 0 , 0, 0], [0 , 0 , 0 , 0 , 1 , 0 , 0 , 0, 0], [0 , 0 , 0 , 0 , 0 , 1 , 0 , 0, 0], [0 , 0 , 0 , 0 , 0 , 0 , 1 , 0, 0], [0 , 0 , 0 , 0 , 0 , 0 , 0 , 1, 0], [0 , 0 , 0 , 0 , 0 , 0 , 0 , 0, 1]])\n",
        "A3 = np.matrix([[0 , 0 , 1 , 0 , 0 , 0 , 0 , 0, 0], [0 , 0 , 0 , 1 , 0 , 0 , 0 , 0, 0], [0 , 0 , 0 , 0 , 1 , 0 , 0 , 0, 0], [0 , 0 , 0 , 0 , 0 , 1 , 0 , 0, 0], [0 , 0 , 0 , 0 , 0 , 0 , 1 , 0, 0], [0 , 0 , 0 , 0 , 0 , 0 , 0 , 1, 0], [0 , 0 , 0 , 0 , 0 , 0 , 0 , 0, 1]])\n",
        "A4 = np.matrix([[0 , 1 , 0 , 0 , 0 , 0 , 0 , 0, 0]])\n",
        "\n",
        "d0s = []\n",
        "result_list = []\n",
        "\n",
        "while True:\n",
        "  try:\n",
        "    d0+=0.1\n",
        "    d0s.append(d0)\n",
        "    b1 = np.array([d0, 0, d0, d0/2, d0, d0/2])\n",
        "    b2 = np.array([50, 100, 100, 100, 100, 100, 100])\n",
        "    b3 = np.array([-50, -100, -100, -100, -100, -100, -100])\n",
        "    b5 = np.array([100]) # b4 se cubre con nonneg = True\n",
        "\n",
        "    constraints = [A1 @ x == b1, A2 @ x <= b2,A3 @ x >= b3,A4 @ x <= b5]\n",
        "    prob = cp.Problem(objective, constraints)\n",
        "    \n",
        "\n",
        "    # Solucion:\n",
        "    result = prob.solve(solver = 'GLPK')\n",
        "    if float(\"inf\") != result:\n",
        "      result_list.append(copy.copy(result))\n",
        "    else:\n",
        "      del d0s[-1]\n",
        "      raise Exception(\"Cálculo terminado con d0=\")\n",
        "  except Exception as e:\n",
        "    print(f'{e} {round(d0-0.1, 4)}')\n",
        "    print(f'Costo: {round(result_list[-1], 4)}')\n",
        "    break\n",
        "\n",
        "import matplotlib.pyplot as plt\n",
        "# line 1 points\n",
        "# plotting the line 1 points \n",
        "plt.plot(d0s, result_list)\n",
        "# naming the x axis\n",
        "plt.xlabel('d0')\n",
        "# naming the y axis\n",
        "plt.ylabel('costo')\n",
        "# giving a title to my graph\n",
        "plt.title('Costo en funcion de d0')\n",
        "  \n",
        "# show a legend on the plot\n",
        "plt.legend()\n",
        "\n"
      ],
      "metadata": {
        "id": "U2wxRiFWl2PV",
        "outputId": "490837be-d3f0-4d88-d8d2-8e65502e93dc",
        "colab": {
          "base_uri": "https://localhost:8080/",
          "height": 366
        }
      },
      "execution_count": 34,
      "outputs": [
        {
          "output_type": "stream",
          "name": "stderr",
          "text": [
            "WARNING:matplotlib.legend:No handles with labels found to put in legend.\n"
          ]
        },
        {
          "output_type": "stream",
          "name": "stdout",
          "text": [
            "Cálculo terminado con d0= 66.6\n",
            "Costo: 316.2\n"
          ]
        },
        {
          "output_type": "execute_result",
          "data": {
            "text/plain": [
              "<matplotlib.legend.Legend at 0x7f6b52ba6850>"
            ]
          },
          "metadata": {},
          "execution_count": 34
        },
        {
          "output_type": "display_data",
          "data": {
            "text/plain": [
              "<Figure size 432x288 with 1 Axes>"
            ],
            "image/png": "[encoded data removed]"
          },
          "metadata": {
            "needs_background": "light"
          }
        }
      ]
    },
    {
      "cell_type": "markdown",
      "source": [
        "y15"
      ],
      "metadata": {
        "id": "2z6Iy44A22K2"
      }
    },
    {
      "cell_type": "code",
      "source": [
        "import numpy as np\n",
        "import cvxpy as cp\n",
        "import copy as copy\n",
        "\n",
        "\n",
        "x = cp.Variable(9, nonneg = True) # Definimos vector x no negativo\n",
        "d0 = 0 # parametro\n",
        "\n",
        "c = np.array([1.0, 2.0, 0.0, 0.0, 0.0, 0.0, 0.0, 0.0, 0.0]) # vector costo\n",
        "objective = cp.Minimize(c.T @ x)\n",
        "\n",
        "# Restricciones\n",
        "A1 = np.matrix([[1 , 0 , -1 , -1 , 0 , 0 , 0 , 0 , 1], [0 , 1 , 1 , 0 , -1 , 0 , 0 , 0 , 0], [0 , 0 , 0 , 0 , 1 , -1 , 0 , 0 , 0], [0 , 0 , 0 , 0 , 0 , 1 , -1 , 0 , 0], [0, 0 , 0 , 1 , 0 , 0 , 1 , -1 , 0], [0 , 0 , 0 , 0 , 0 , 0 , 0 , 1 , -1]])\n",
        "A2 = np.matrix([[0 , 0 , 1 , 0 , 0 , 0 , 0 , 0, 0], [0 , 0 , 0 , 1 , 0 , 0 , 0 , 0, 0], [0 , 0 , 0 , 0 , 1 , 0 , 0 , 0, 0], [0 , 0 , 0 , 0 , 0 , 1 , 0 , 0, 0], [0 , 0 , 0 , 0 , 0 , 0 , 1 , 0, 0], [0 , 0 , 0 , 0 , 0 , 0 , 0 , 1, 0], [0 , 0 , 0 , 0 , 0 , 0 , 0 , 0, 1]])\n",
        "A3 = np.matrix([[0 , 0 , 1 , 0 , 0 , 0 , 0 , 0, 0], [0 , 0 , 0 , 1 , 0 , 0 , 0 , 0, 0], [0 , 0 , 0 , 0 , 1 , 0 , 0 , 0, 0], [0 , 0 , 0 , 0 , 0 , 1 , 0 , 0, 0], [0 , 0 , 0 , 0 , 0 , 0 , 1 , 0, 0], [0 , 0 , 0 , 0 , 0 , 0 , 0 , 1, 0], [0 , 0 , 0 , 0 , 0 , 0 , 0 , 0, 1]])\n",
        "A4 = np.matrix([[0 , 1 , 0 , 0 , 0 , 0 , 0 , 0, 0]])\n",
        "\n",
        "d0s = []\n",
        "result_list = []\n",
        "\n",
        "while True:\n",
        "  try:\n",
        "    d0+=0.1\n",
        "    d0s.append(d0)\n",
        "    b1 = np.array([d0, 0, d0, d0/2, d0, d0/2])\n",
        "    b2 = np.array([50, 100, 100, 100, 100, 100, 100])\n",
        "    b3 = np.array([-50, -100, -100, -100, -100, -100, -100])\n",
        "    b5 = np.array([100]) # b4 se cubre con nonneg = True\n",
        "\n",
        "    constraints = [A1 @ x == b1, A2 @ x <= b2,A3 @ x >= b3,A4 @ x <= b5]\n",
        "    prob = cp.Problem(objective, constraints)\n",
        "    \n",
        "\n",
        "    # Solucion:\n",
        "    result = prob.solve(solver = 'GLPK')\n",
        "    if float(\"inf\") != result:\n",
        "      result_list.append(copy.copy(result))\n",
        "    else:\n",
        "      del d0s[-1]\n",
        "      raise Exception(\"Cálculo terminado con d0=\")\n",
        "  except Exception as e:\n",
        "    print(f'{e} {round(d0-0.1, 4)}')\n",
        "    print(f'Costo: {round(result_list[-1], 4)}')\n",
        "    break\n",
        "\n",
        "import matplotlib.pyplot as plt\n",
        "# line 1 points\n",
        "# plotting the line 1 points \n",
        "plt.plot(d0s, result_list)\n",
        "# naming the x axis\n",
        "plt.xlabel('d0')\n",
        "# naming the y axis\n",
        "plt.ylabel('costo')\n",
        "# giving a title to my graph\n",
        "plt.title('Costo en funcion de d0')\n",
        "  \n",
        "# show a legend on the plot\n",
        "plt.legend()\n",
        "\n"
      ],
      "metadata": {
        "id": "czdK2Ydm24mV",
        "outputId": "ba03949b-0d98-466e-e1ae-306122ccb868",
        "colab": {
          "base_uri": "https://localhost:8080/",
          "height": 366
        }
      },
      "execution_count": 35,
      "outputs": [
        {
          "output_type": "stream",
          "name": "stderr",
          "text": [
            "WARNING:matplotlib.legend:No handles with labels found to put in legend.\n"
          ]
        },
        {
          "output_type": "stream",
          "name": "stdout",
          "text": [
            "Cálculo terminado con d0= 66.6\n",
            "Costo: 316.3\n"
          ]
        },
        {
          "output_type": "execute_result",
          "data": {
            "text/plain": [
              "<matplotlib.legend.Legend at 0x7f6b52b0d8b0>"
            ]
          },
          "metadata": {},
          "execution_count": 35
        },
        {
          "output_type": "display_data",
          "data": {
            "text/plain": [
              "<Figure size 432x288 with 1 Axes>"
            ],
            "image/png": "[encoded data removed]"
          },
          "metadata": {
            "needs_background": "light"
          }
        }
      ]
    },
    {
      "cell_type": "markdown",
      "source": [
        "En base a los resultados anteriores. Se entiende que maximiza la region de factibilidad y minimiza el costo el enlace y<sub>14</sub> tanto como el y<sub>15</sub>.\n",
        "\n",
        "El problema que intentamos resolver con el nuevo enlace era evitar la saturación entre P<sub>1</sub> y P<sub>2</sub> ya que el enlace de los P está acotado en 50"
      ],
      "metadata": {
        "id": "B8uiFn9V3YlL"
      }
    }
  ],
  "metadata": {
    "kernelspec": {
      "display_name": "Python 3.10.8 64-bit",
      "language": "python",
      "name": "python3"
    },
    "language_info": {
      "codemirror_mode": {
        "name": "ipython",
        "version": 3
      },
      "file_extension": ".py",
      "mimetype": "text/x-python",
      "name": "python",
      "nbconvert_exporter": "python",
      "pygments_lexer": "ipython3",
      "version": "3.11.0"
    },
    "orig_nbformat": 4,
    "vscode": {
      "interpreter": {
        "hash": "aee8b7b246df8f9039afb4144a1f6fd8d2ca17a180786b69acc140d282b71a49"
      }
    },
    "colab": {
      "provenance": []
    }
  },
  "nbformat": 4,
  "nbformat_minor": 0
}